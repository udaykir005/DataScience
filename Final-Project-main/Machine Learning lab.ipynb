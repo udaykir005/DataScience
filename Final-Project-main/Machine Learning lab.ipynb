{
 "cells": [
  {
   "cell_type": "code",
   "execution_count": null,
   "id": "b09c320a-368d-4c0c-be4a-2c15d50b662e",
   "metadata": {},
   "outputs": [],
   "source": [
    "Orginal Lab could not be downloaded"
   ]
  },
  {
   "cell_type": "code",
   "execution_count": null,
   "id": "f31468b7-dd17-4188-9f60-980b31cd5eea",
   "metadata": {},
   "outputs": [],
   "source": [
    "## Import Libraries and Define Auxiliary Functions\n"
   ]
  },
  {
   "cell_type": "code",
   "execution_count": null,
   "id": "813b134c-2fb5-42b5-9d2c-634ce70fc52c",
   "metadata": {},
   "outputs": [],
   "source": [
    "import piplite\n",
    "await piplite.install(['numpy'])\n",
    "await piplite.install(['pandas'])\n",
    "await piplite.install(['seaborn'])"
   ]
  },
  {
   "cell_type": "code",
   "execution_count": null,
   "id": "d9933fce-4a5f-4443-9e71-d715c467fecd",
   "metadata": {},
   "outputs": [],
   "source": [
    "# Pandas is a software library written for the Python programming language for data manipulation and analysis.\n",
    "import pandas as pd\n",
    "# NumPy is a library for the Python programming language, adding support for large, multi-dimensional arrays and matrices, along with a large collection of high-level mathematical functions to operate on these arrays\n",
    "import numpy as np\n",
    "# Matplotlib is a plotting library for python and pyplot gives us a MatLab like plotting framework. We will use this in our plotter function to plot data.\n",
    "import matplotlib.pyplot as plt\n",
    "#Seaborn is a Python data visualization library based on matplotlib. It provides a high-level interface for drawing attractive and informative statistical graphics\n",
    "import seaborn as sns\n",
    "# Preprocessing allows us to standarsize our data\n",
    "from sklearn import preprocessing\n",
    "# Allows us to split our data into training and testing data\n",
    "from sklearn.model_selection import train_test_split\n",
    "# Allows us to test parameters of classification algorithms and find the best one\n",
    "from sklearn.model_selection import GridSearchCV\n",
    "# Logistic Regression classification algorithm\n",
    "from sklearn.linear_model import LogisticRegression\n",
    "# Support Vector Machine classification algorithm\n",
    "from sklearn.svm import SVC\n",
    "# Decision Tree classification algorithm\n",
    "from sklearn.tree import DecisionTreeClassifier\n",
    "# K Nearest Neighbors classification algorithm\n",
    "from sklearn.neighbors import KNeighborsClassifier"
   ]
  },
  {
   "cell_type": "code",
   "execution_count": null,
   "id": "c5b45eb9-019a-4e3d-b5ce-16c32a3a277f",
   "metadata": {},
   "outputs": [],
   "source": [
    "def plot_confusion_matrix(y,y_predict):\n",
    "    \"this function plots the confusion matrix\"\n",
    "    from sklearn.metrics import confusion_matrix\n",
    "\n",
    "    cm = confusion_matrix(y, y_predict)\n",
    "    ax= plt.subplot()\n",
    "    sns.heatmap(cm, annot=True, ax = ax); #annot=True to annotate cells\n",
    "    ax.set_xlabel('Predicted labels')\n",
    "    ax.set_ylabel('True labels')\n",
    "    ax.set_title('Confusion Matrix'); \n",
    "    ax.xaxis.set_ticklabels(['did not land', 'land']); ax.yaxis.set_ticklabels(['did not land', 'landed']) \n",
    "    plt.show()"
   ]
  },
  {
   "cell_type": "code",
   "execution_count": null,
   "id": "b071b83f-a555-44a0-89ff-346b316a2f4b",
   "metadata": {},
   "outputs": [],
   "source": [
    "Load the dataframe"
   ]
  },
  {
   "cell_type": "code",
   "execution_count": null,
   "id": "60c9e365-539a-42a4-8a60-b49b41583fd0",
   "metadata": {},
   "outputs": [],
   "source": [
    "from js import fetch\n",
    "import io\n",
    "\n",
    "URL1 = \"https://cf-courses-data.s3.us.cloud-object-storage.appdomain.cloud/IBM-DS0321EN-SkillsNetwork/datasets/dataset_part_2.csv\"\n",
    "resp1 = await fetch(URL1)\n",
    "text1 = io.BytesIO((await resp1.arrayBuffer()).to_py())\n",
    "data = pd.read_csv(text1)"
   ]
  },
  {
   "cell_type": "code",
   "execution_count": null,
   "id": "fd6d95b4-a460-490b-9ee4-a4e8f949a9fc",
   "metadata": {},
   "outputs": [],
   "source": [
    "data.head()"
   ]
  },
  {
   "cell_type": "code",
   "execution_count": null,
   "id": "166e6cd7-ce4a-43a5-8532-49462a0e2b9b",
   "metadata": {},
   "outputs": [],
   "source": [
    "URL2 = 'https://cf-courses-data.s3.us.cloud-object-storage.appdomain.cloud/IBM-DS0321EN-SkillsNetwork/datasets/dataset_part_3.csv'\n",
    "resp2 = await fetch(URL2)\n",
    "text2 = io.BytesIO((await resp2.arrayBuffer()).to_py())\n",
    "X = pd.read_csv(text2)"
   ]
  },
  {
   "cell_type": "code",
   "execution_count": null,
   "id": "1aab2d74-20c5-4f0b-89db-1f7b72b45636",
   "metadata": {},
   "outputs": [],
   "source": [
    "X.head(100)"
   ]
  },
  {
   "cell_type": "code",
   "execution_count": null,
   "id": "aa9d0684-0bad-4248-b4fe-c1a3a3e606df",
   "metadata": {},
   "outputs": [],
   "source": [
    "## TASK  1\n"
   ]
  },
  {
   "cell_type": "code",
   "execution_count": null,
   "id": "ffd44147-53ac-445c-a0b5-9c4674328ba4",
   "metadata": {},
   "outputs": [],
   "source": [
    "Create a NumPy array from the column <code>Class</code> in <code>data</code>, by applying the method <code>to_numpy()</code>  then\n",
    "assign it  to the variable <code>Y</code>,make sure the output is a  Pandas series (only one bracket df\\['name of  column']).\n"
   ]
  },
  {
   "cell_type": "code",
   "execution_count": null,
   "id": "c9194d31-bf94-45b0-b429-77a2c7319b06",
   "metadata": {},
   "outputs": [],
   "source": [
    "Y = data['Class']\n",
    "Y = Y.to_numpy()\n",
    "print(type(Y))"
   ]
  },
  {
   "cell_type": "code",
   "execution_count": null,
   "id": "4788e2bd-4c40-4486-8974-ff0bbf82c0c2",
   "metadata": {},
   "outputs": [],
   "source": [
    "## TASK  2\n"
   ]
  },
  {
   "cell_type": "code",
   "execution_count": null,
   "id": "6e36526c-622a-4d73-9951-7d6a3b7f970e",
   "metadata": {},
   "outputs": [],
   "source": [
    "Standardize the data in <code>X</code> then reassign it to the variable  <code>X</code> using the transform provided below.\n"
   ]
  },
  {
   "cell_type": "code",
   "execution_count": null,
   "id": "9dffa445-d7dd-4289-be1f-b714db685f41",
   "metadata": {},
   "outputs": [],
   "source": [
    "# students get this \n",
    "transform = preprocessing.StandardScaler()"
   ]
  },
  {
   "cell_type": "code",
   "execution_count": null,
   "id": "a011a741-c0cf-4911-8055-4c6c67790540",
   "metadata": {},
   "outputs": [],
   "source": [
    "We split the data into training and testing data using the  function  <code>train_test_split</code>.   The training data is divided into validation data, a second set used for training  data; then the models are trained and hyperparameters are selected using the function <code>GridSearchCV</code>.\n"
   ]
  },
  {
   "cell_type": "code",
   "execution_count": null,
   "id": "c5786ef5-8782-4f38-a8fd-1cadf497e8ae",
   "metadata": {},
   "outputs": [],
   "source": [
    "## TASK  3\n"
   ]
  },
  {
   "cell_type": "code",
   "execution_count": null,
   "id": "405d922c-db29-47c4-b748-9b61c60a0103",
   "metadata": {},
   "outputs": [],
   "source": [
    "Use the function train_test_split to split the data X and Y into training and test data. Set the parameter test_size to  0.2 and random_state to 2. The training data and test data should be assigned to the following labels.\n"
   ]
  },
  {
   "cell_type": "code",
   "execution_count": null,
   "id": "68556342-1618-4483-a933-6da3acbb58a8",
   "metadata": {},
   "outputs": [],
   "source": [
    "<code>X_train, X_test, Y_train, Y_test</code>\n"
   ]
  },
  {
   "cell_type": "code",
   "execution_count": null,
   "id": "5079675c-3250-410a-b31b-b285532fa288",
   "metadata": {},
   "outputs": [],
   "source": [
    "X_train, X_test, Y_train, Y_test = train_test_split(X, Y, test_size=0.2, random_state=2)"
   ]
  },
  {
   "cell_type": "code",
   "execution_count": null,
   "id": "262c3088-d937-4fd5-8c33-9b7ce96529c4",
   "metadata": {},
   "outputs": [],
   "source": [
    "we can see we only have 18 test samples.\n"
   ]
  },
  {
   "cell_type": "code",
   "execution_count": null,
   "id": "60d0f83e-0a80-4654-a179-b1be36b79852",
   "metadata": {},
   "outputs": [],
   "source": [
    "Y_test.shape"
   ]
  },
  {
   "cell_type": "code",
   "execution_count": null,
   "id": "bddb69d4-8eba-4379-bffa-4ab4b20081ba",
   "metadata": {},
   "outputs": [],
   "source": [
    "## TASK  4\n"
   ]
  },
  {
   "cell_type": "code",
   "execution_count": null,
   "id": "a8cdcb2d-bfd0-4db2-a5f0-664ad7397488",
   "metadata": {},
   "outputs": [],
   "source": [
    "Create a logistic regression object  then create a  GridSearchCV object  <code>logreg_cv</code> with cv = 10.  Fit the object to find the best parameters from the dictionary <code>parameters</code>.\n"
   ]
  },
  {
   "cell_type": "code",
   "execution_count": null,
   "id": "4dd1026e-99f3-4635-9f24-c5e8cc2f8d4b",
   "metadata": {},
   "outputs": [],
   "source": [
    "parameters ={'C':[0.01,0.1,1],\n",
    "             'penalty':['l2'],\n",
    "             'solver':['lbfgs']}"
   ]
  },
  {
   "cell_type": "code",
   "execution_count": null,
   "id": "0bff5b18-73e1-45dc-a810-2d2824a12fa5",
   "metadata": {},
   "outputs": [],
   "source": [
    "parameters ={\"C\":[0.01,0.1,1],'penalty':['l2'], 'solver':['lbfgs']}# l1 lasso l2 ridge\n",
    "lr=LogisticRegression()\n"
   ]
  },
  {
   "cell_type": "code",
   "execution_count": null,
   "id": "542ec190-7197-4d9c-aa9f-10afbe407356",
   "metadata": {},
   "outputs": [],
   "source": [
    "We output the <code>GridSearchCV</code> object for logistic regression. We display the best parameters using the data attribute <code>best_params\\_</code> and the accuracy on the validation data using the data attribute <code>best_score\\_</code>.\n"
   ]
  },
  {
   "cell_type": "code",
   "execution_count": null,
   "id": "5c988eaa-1948-4c02-b9d1-4cb73cd4204b",
   "metadata": {},
   "outputs": [],
   "source": [
    "logreg_cv = GridSearchCV(lr, parameters, cv=10)\n",
    "logreg_cv.fit(X_train, Y_train)\n",
    "print(\"tuned hpyerparameters :(best parameters) \",logreg_cv.best_params_)\n",
    "print(\"accuracy :\",logreg_cv.best_score_)"
   ]
  },
  {
   "cell_type": "code",
   "execution_count": null,
   "id": "3a5e5208-e1f5-4cb3-b7ed-f435afbc889c",
   "metadata": {},
   "outputs": [],
   "source": [
    "## TASK  5\n"
   ]
  },
  {
   "cell_type": "code",
   "execution_count": null,
   "id": "157e3172-53fb-4434-ac29-94680650df6f",
   "metadata": {},
   "outputs": [],
   "source": [
    "Calculate the accuracy on the test data using the method <code>score</code>:\n"
   ]
  },
  {
   "cell_type": "code",
   "execution_count": null,
   "id": "54d0a4f1-9cbb-4ecf-89a6-29e2f0997ffc",
   "metadata": {},
   "outputs": [],
   "source": [
    "accuracy = logreg_cv.score(X_test, Y_test)\n",
    "print(\"Accuracy on test data:\", accuracy)"
   ]
  },
  {
   "cell_type": "code",
   "execution_count": null,
   "id": "32fae36e-1d08-4bd3-817d-18227df89e24",
   "metadata": {},
   "outputs": [],
   "source": [
    "Lets look at the confusion matrix:\n"
   ]
  },
  {
   "cell_type": "code",
   "execution_count": null,
   "id": "53fb8936-17a0-4261-9124-ed3ac479f09c",
   "metadata": {},
   "outputs": [],
   "source": [
    "yhat=logreg_cv.predict(X_test)\n",
    "plot_confusion_matrix(Y_test,yhat)"
   ]
  },
  {
   "cell_type": "code",
   "execution_count": null,
   "id": "11de6057-82e7-4fc9-8366-c8b75e763ce1",
   "metadata": {},
   "outputs": [],
   "source": [
    "## TASK  6\n"
   ]
  },
  {
   "cell_type": "code",
   "execution_count": null,
   "id": "6e6696a1-8108-49c6-af4f-f669a56c72e7",
   "metadata": {},
   "outputs": [],
   "source": [
    "Create a support vector machine object then  create a  <code>GridSearchCV</code> object  <code>svm_cv</code> with cv = 10.  Fit the object to find the best parameters from the dictionary <code>parameters</code>.\n"
   ]
  },
  {
   "cell_type": "code",
   "execution_count": null,
   "id": "85f9349b-6493-4b35-872a-45a2a65391f1",
   "metadata": {},
   "outputs": [],
   "source": [
    "parameters = {\n",
    "    'kernel': ['linear', 'rbf'],\n",
    "    'C': np.logspace(-1, 1, 3),\n",
    "    'gamma': ['scale']\n",
    "}\n",
    "svm = SVC()"
   ]
  },
  {
   "cell_type": "code",
   "execution_count": null,
   "id": "6d14b1c5-d66b-4c86-ab00-d8c66a57fdde",
   "metadata": {},
   "outputs": [],
   "source": [
    "svm_cv = GridSearchCV(svm, parameters, cv=3, n_jobs=-1)"
   ]
  },
  {
   "cell_type": "code",
   "execution_count": null,
   "id": "b20d3685-5fc0-4ac7-8faf-167694b41ac7",
   "metadata": {},
   "outputs": [],
   "source": [
    "svm_cv.fit(X_train, Y_train)\n",
    "print(\"tuned hpyerparameters :(best parameters) \",svm_cv.best_params_)\n",
    "print(\"accuracy :\",svm_cv.best_score_)"
   ]
  },
  {
   "cell_type": "code",
   "execution_count": null,
   "id": "3a7a9574-5846-4a9a-98d8-bf144a9693ce",
   "metadata": {},
   "outputs": [],
   "source": [
    "## TASK  7\n"
   ]
  },
  {
   "cell_type": "code",
   "execution_count": null,
   "id": "276c3250-5ebf-4082-be53-c4718545c7bc",
   "metadata": {},
   "outputs": [],
   "source": [
    "Calculate the accuracy on the test data using the method <code>score</code>:\n"
   ]
  },
  {
   "cell_type": "code",
   "execution_count": null,
   "id": "9dbb6a74-232e-4602-aecc-a90a30c3c8b7",
   "metadata": {},
   "outputs": [],
   "source": [
    "test_accuracy = svm_cv.score(X_test, Y_test)\n",
    "print(\"Accuracy on test data:\", test_accuracy)"
   ]
  },
  {
   "cell_type": "code",
   "execution_count": null,
   "id": "a3ce8230-dc7b-4a7a-af16-e224c6fb6483",
   "metadata": {},
   "outputs": [],
   "source": [
    "We can plot the confusion matrix\n"
   ]
  },
  {
   "cell_type": "code",
   "execution_count": null,
   "id": "e288e376-90ae-4e4f-bcc9-d049a1b64e60",
   "metadata": {},
   "outputs": [],
   "source": [
    "yhat=svm_cv.predict(X_test)\n",
    "plot_confusion_matrix(Y_test,yhat)"
   ]
  },
  {
   "cell_type": "code",
   "execution_count": null,
   "id": "ab04cb2c-67f5-40d1-86ec-a7a2320a36c4",
   "metadata": {},
   "outputs": [],
   "source": [
    "## TASK  8\n"
   ]
  },
  {
   "cell_type": "code",
   "execution_count": null,
   "id": "076d2d30-25bd-4955-afa1-eea2753aba2d",
   "metadata": {},
   "outputs": [],
   "source": [
    "Create a decision tree classifier object then  create a  <code>GridSearchCV</code> object  <code>tree_cv</code> with cv = 10.  Fit the object to find the best parameters from the dictionary <code>parameters</code>.\n"
   ]
  },
  {
   "cell_type": "code",
   "execution_count": null,
   "id": "9c39f78f-e40c-43de-b750-10044e2b2ade",
   "metadata": {},
   "outputs": [],
   "source": [
    "parameters = {'criterion': ['gini', 'entropy'],\n",
    "     'splitter': ['best', 'random'],\n",
    "     'max_depth': [2*n for n in range(1,10)],\n",
    "     'max_features': ['auto', 'sqrt'],\n",
    "     'min_samples_leaf': [1, 2, 4],\n",
    "     'min_samples_split': [2, 5, 10]}\n",
    "\n",
    "tree = DecisionTreeClassifier()"
   ]
  },
  {
   "cell_type": "code",
   "execution_count": null,
   "id": "5ffb1c5f-bb69-4b74-a522-a6be03cf226e",
   "metadata": {},
   "outputs": [],
   "source": [
    "tree_cv = GridSearchCV(tree, parameters, cv=10)\n",
    "tree_cv.fit(X_train, Y_train)"
   ]
  },
  {
   "cell_type": "code",
   "execution_count": null,
   "id": "cd07419a-fa4b-4149-8ea0-91a8f3f646da",
   "metadata": {},
   "outputs": [],
   "source": [
    "print(\"tuned hpyerparameters :(best parameters) \",tree_cv.best_params_)\n",
    "print(\"accuracy :\",tree_cv.best_score_)"
   ]
  },
  {
   "cell_type": "code",
   "execution_count": null,
   "id": "882b07cf-16fb-4e8d-8349-15db38b0cca2",
   "metadata": {},
   "outputs": [],
   "source": [
    "## TASK  9\n"
   ]
  },
  {
   "cell_type": "code",
   "execution_count": null,
   "id": "653bf2aa-a7f0-456a-9c6c-1f02a0063156",
   "metadata": {},
   "outputs": [],
   "source": [
    "Calculate the accuracy of tree_cv on the test data using the method <code>score</code>:\n"
   ]
  },
  {
   "cell_type": "code",
   "execution_count": null,
   "id": "d828d5cf-20f0-4060-8f8a-1c7caa38f986",
   "metadata": {},
   "outputs": [],
   "source": [
    "test_accuracy = tree_cv.best_estimator_.score(X_test, Y_test)\n",
    "print(\"Accuracy on test data:\", test_accuracy)"
   ]
  },
  {
   "cell_type": "code",
   "execution_count": null,
   "id": "eda6df8b-9b86-4930-a117-72cb50a5e478",
   "metadata": {},
   "outputs": [],
   "source": [
    "We can plot the confusion matrix\n"
   ]
  },
  {
   "cell_type": "code",
   "execution_count": null,
   "id": "861de803-29f2-48ad-9064-3313ed04d131",
   "metadata": {},
   "outputs": [],
   "source": [
    "yhat = tree_cv.predict(X_test)\n",
    "plot_confusion_matrix(Y_test,yhat)"
   ]
  },
  {
   "cell_type": "code",
   "execution_count": null,
   "id": "f1f6ddad-fa17-4db5-a098-9ffdaa2f3f4c",
   "metadata": {},
   "outputs": [],
   "source": [
    "## TASK  10\n"
   ]
  },
  {
   "cell_type": "code",
   "execution_count": null,
   "id": "a6c0dd2b-e9d0-42b0-9525-6079f10b5419",
   "metadata": {},
   "outputs": [],
   "source": [
    "Create a k nearest neighbors object then  create a  <code>GridSearchCV</code> object  <code>knn_cv</code> with cv = 10.  Fit the object to find the best parameters from the dictionary <code>parameters</code>.\n"
   ]
  },
  {
   "cell_type": "code",
   "execution_count": null,
   "id": "e98a6442-bfba-40a3-902a-90c600fd3a7b",
   "metadata": {},
   "outputs": [],
   "source": [
    "parameters = {'n_neighbors': [1, 2, 3, 4, 5, 6, 7, 8, 9, 10],\n",
    "              'algorithm': ['auto', 'ball_tree', 'kd_tree', 'brute'],\n",
    "              'p': [1,2]}\n",
    "\n",
    "KNN = KNeighborsClassifier()"
   ]
  },
  {
   "cell_type": "code",
   "execution_count": null,
   "id": "b20662a6-141d-4dc9-aa5a-bac72085b077",
   "metadata": {},
   "outputs": [],
   "source": [
    "KNN = KNeighborsClassifier()\n",
    "knn_cv = GridSearchCV(KNN, parameters, cv=10)"
   ]
  },
  {
   "cell_type": "code",
   "execution_count": null,
   "id": "8e772495-411b-41ef-a74b-84a2573870a6",
   "metadata": {},
   "outputs": [],
   "source": [
    "knn_cv.fit(X_train, Y_train)\n",
    "print(\"tuned hpyerparameters :(best parameters) \",knn_cv.best_params_)\n",
    "print(\"accuracy :\",knn_cv.best_score_)"
   ]
  },
  {
   "cell_type": "code",
   "execution_count": null,
   "id": "484e7ca0-47f2-4332-a9f4-f58277018e08",
   "metadata": {},
   "outputs": [],
   "source": [
    "## TASK  11\n"
   ]
  },
  {
   "cell_type": "code",
   "execution_count": null,
   "id": "bf7c99de-70d3-4f3a-a3a9-16d904a6b9f6",
   "metadata": {},
   "outputs": [],
   "source": [
    "Calculate the accuracy of knn_cv on the test data using the method <code>score</code>:\n"
   ]
  },
  {
   "cell_type": "code",
   "execution_count": null,
   "id": "6ec01ee4-7ff8-4941-90db-68d4160f5bb0",
   "metadata": {},
   "outputs": [],
   "source": [
    "test_accuracy = knn_cv.best_estimator_.score(X_test, Y_test)\n",
    "\n",
    "print(\"Accuracy on test data:\", test_accuracy)"
   ]
  },
  {
   "cell_type": "code",
   "execution_count": null,
   "id": "2825d516-9ea9-499b-aa6f-a095b3f2046d",
   "metadata": {},
   "outputs": [],
   "source": [
    "We can plot the confusion matrix\n"
   ]
  },
  {
   "cell_type": "code",
   "execution_count": null,
   "id": "5fe74df9-e2c5-4dba-bb08-f24c5b23a3c0",
   "metadata": {},
   "outputs": [],
   "source": [
    "yhat = knn_cv.predict(X_test)\n",
    "plot_confusion_matrix(Y_test,yhat)"
   ]
  },
  {
   "cell_type": "code",
   "execution_count": null,
   "id": "c903c922-1762-4cd0-b2f4-01d30b822c86",
   "metadata": {},
   "outputs": [],
   "source": [
    "## TASK  12\n"
   ]
  },
  {
   "cell_type": "code",
   "execution_count": null,
   "id": "a20de02a-22bc-49f6-8b11-44803bb6ee78",
   "metadata": {},
   "outputs": [],
   "source": [
    "Find the method performs best:\n"
   ]
  },
  {
   "cell_type": "code",
   "execution_count": null,
   "id": "892a8bf8-aca0-4d45-a4e7-9d6f4adf9a04",
   "metadata": {},
   "outputs": [],
   "source": [
    "# Assuming all GridSearchCV objects (tree_cv, svm_cv, knn_cv, logreg_cv) have been fitted and X_test, Y_test are defined\n",
    "\n",
    "# Calculate accuracy scores on test data for each model\n",
    "tree_accuracy = tree_cv.best_estimator_.score(X_test, Y_test)\n",
    "svm_accuracy = svm_cv.best_estimator_.score(X_test, Y_test)\n",
    "knn_accuracy = knn_cv.best_estimator_.score(X_test, Y_test)\n",
    "# logreg_accuracy = logreg_cv.best_estimator_.score(X_test, Y_test)  # Uncomment if logreg_cv is defined\n",
    "\n",
    "# Print accuracy scores for comparison\n",
    "print(\"Decision Tree Accuracy:\", tree_accuracy)\n",
    "print(\"SVM Accuracy:\", svm_accuracy)\n",
    "print(\"KNN Accuracy:\", knn_accuracy)\n",
    "# print(\"Logistic Regression Accuracy:\", logreg_accuracy)  # Uncomment if logreg_cv is defined\n",
    "\n",
    "# Determine the best performing model\n",
    "best_accuracy = max(tree_accuracy, svm_accuracy, knn_accuracy)\n",
    "# If you have logreg_cv defined, uncomment and add to best_accuracy comparison\n",
    "# best_accuracy = max(tree_accuracy, svm_accuracy, knn_accuracy, logreg_accuracy)\n",
    "\n",
    "if best_accuracy == tree_accuracy:\n",
    "    print(\"Decision Tree performs best with accuracy:\", tree_accuracy)\n",
    "elif best_accuracy == svm_accuracy:\n",
    "    print(\"SVM performs best with accuracy:\", svm_accuracy)\n",
    "elif best_accuracy == knn_accuracy:\n",
    "    print(\"KNN performs best with accuracy:\", knn_accuracy)\n",
    "# Uncomment if logreg_cv is defined\n",
    "# elif best_accuracy == logreg_accuracy:\n",
    "#     print(\"Logistic Regression performs best with accuracy:\", logreg_accuracy)\n"
   ]
  },
  {
   "cell_type": "code",
   "execution_count": null,
   "id": "a26ddf9d-795d-47e4-885b-ecf2f1beade8",
   "metadata": {},
   "outputs": [],
   "source": [
    "\n",
    "# Calculate accuracy scores on test data for each model\n",
    "models = ['Decision Tree', 'SVM', 'KNN']\n",
    "accuracies = [\n",
    "    tree_cv.best_estimator_.score(X_test, Y_test) * 100,\n",
    "    svm_cv.best_estimator_.score(X_test, Y_test) * 100,\n",
    "    knn_cv.best_estimator_.score(X_test, Y_test) * 100\n",
    "]\n",
    "# Uncomment if logreg_cv is defined\n",
    "# models.append('Logistic Regression')\n",
    "# accuracies.append(logreg_cv.best_estimator_.score(X_test, Y_test) * 100)\n",
    "\n",
    "# Plotting the bar chart\n",
    "plt.figure(figsize=(10, 6))\n",
    "plt.bar(models, accuracies, color=['blue', 'green', 'orange'])\n",
    "plt.xlabel('Classification Model')\n",
    "plt.ylabel('Accuracy (%)')\n",
    "plt.title('Accuracy Comparison of Classification Models')\n",
    "plt.ylim(0, 100)  # Set y-axis limits from 0 to 100%\n",
    "plt.show()"
   ]
  }
 ],
 "metadata": {
  "kernelspec": {
   "display_name": "Python 3 (ipykernel)",
   "language": "python",
   "name": "python3"
  },
  "language_info": {
   "codemirror_mode": {
    "name": "ipython",
    "version": 3
   },
   "file_extension": ".py",
   "mimetype": "text/x-python",
   "name": "python",
   "nbconvert_exporter": "python",
   "pygments_lexer": "ipython3",
   "version": "3.11.7"
  }
 },
 "nbformat": 4,
 "nbformat_minor": 5
}
